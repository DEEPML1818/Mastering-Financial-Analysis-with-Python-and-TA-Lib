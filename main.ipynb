{
 "cells": [
  {
   "cell_type": "code",
   "execution_count": null,
   "metadata": {},
   "outputs": [],
   "source": [
    "import talib\n",
    "import yfinance as yf\n",
    "\n",
    "# Load historical stock data\n",
    "symbol = \"AAPL\"\n",
    "start_date = \"2022-01-01\"\n",
    "end_date = \"2023-01-01\"\n",
    "stock_data = yf.download(symbol, start=start_date, end=end_date)\n",
    "\n",
    "# Calculate the 50-day and 200-day SMAs\n",
    "stock_data['SMA_50'] = talib.SMA(stock_data['Close'], timeperiod=50)\n",
    "stock_data['SMA_200'] = talib.SMA(stock_data['Close'], timeperiod=200)\n",
    "\n",
    "# Display the data with moving averages\n",
    "print(stock_data[['Close', 'SMA_50', 'SMA_200']].tail())"
   ]
  },
  {
   "cell_type": "code",
   "execution_count": null,
   "metadata": {},
   "outputs": [],
   "source": [
    "# Calculate Bollinger Bands\n",
    "stock_data['UpperBand'], stock_data['MiddleBand'], stock_data['LowerBand'] = talib.BBANDS(stock_data['Close'])"
   ]
  },
  {
   "cell_type": "code",
   "execution_count": null,
   "metadata": {},
   "outputs": [],
   "source": [
    "# Calculate Relative Strength Index (RSI)\n",
    "stock_data['RSI'] = talib.RSI(stock_data['Close'])"
   ]
  },
  {
   "cell_type": "code",
   "execution_count": null,
   "metadata": {},
   "outputs": [],
   "source": [
    "# Plotting code\n",
    "plt.figure(figsize=(12, 8))\n",
    "\n",
    "# Plot closing price\n",
    "plt.plot(stock_data['Close'], label='Close Price', color='blue')\n",
    "\n",
    "# Plot SMAs\n",
    "plt.plot(stock_data['SMA_50'], label='50-day SMA', linestyle='--', color='orange')\n",
    "plt.plot(stock_data['SMA_200'], label='200-day SMA', linestyle='--', color='green')\n",
    "\n",
    "# Plot Bollinger Bands\n",
    "plt.plot(stock_data['UpperBand'], label='Upper Bollinger Band', linestyle='--', color='red')\n",
    "plt.plot(stock_data['MiddleBand'], label='Middle Bollinger Band', linestyle='--', color='purple')\n",
    "plt.plot(stock_data['LowerBand'], label='Lower Bollinger Band', linestyle='--', color='red')\n",
    "\n",
    "# Plot RSI\n",
    "plt.plot(stock_data['RSI'], label='RSI', linestyle='-', color='magenta')\n",
    "\n",
    "plt.title(f'{symbol} Stock Price with Technical Indicators')\n",
    "plt.xlabel('Date')\n",
    "plt.ylabel('Price')\n",
    "plt.legend()\n",
    "plt.show()"
   ]
  }
 ],
 "metadata": {
  "kernelspec": {
   "display_name": "Python 3",
   "language": "python",
   "name": "python3"
  },
  "language_info": {
   "name": "python",
   "version": "3.9.13 (tags/v3.9.13:6de2ca5, May 17 2022, 16:36:42) [MSC v.1929 64 bit (AMD64)]"
  },
  "orig_nbformat": 4,
  "vscode": {
   "interpreter": {
    "hash": "b632dcc83ff5927942d6d9ce4967f5155bb6ecfd8a74c01d0bb5eeb3cc54d9f0"
   }
  }
 },
 "nbformat": 4,
 "nbformat_minor": 2
}
